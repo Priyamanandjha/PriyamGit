{
 "cells": [
  {
   "cell_type": "markdown",
   "metadata": {},
   "source": [
    "### About dataset :\n",
    "The dataset contains three columns 'id', 'label', 'tweet' the tweet column contains all the tweets on which we have to train the model \n",
    "'label' contains the sentiment of the tweet either negative (0) or  positive (1). "
   ]
  },
  {
   "cell_type": "code",
   "execution_count": 1,
   "metadata": {},
   "outputs": [],
   "source": [
    "import sys\n",
    "import warnings\n",
    "\n",
    "if not sys.warnoptions:\n",
    "    warnings.simplefilter(\"ignore\")"
   ]
  },
  {
   "cell_type": "code",
   "execution_count": 2,
   "metadata": {},
   "outputs": [],
   "source": [
    "import numpy as np\n",
    "import pandas as pd\n",
    "import re\n",
    "import time \n",
    "\n",
    "from sklearn.feature_extraction.text import TfidfVectorizer \n",
    "from sklearn.metrics import classification_report\n",
    "from sklearn.metrics import accuracy_score,recall_score,precision_score,f1_score\n",
    "from sklearn.externals import joblib \n",
    "from sklearn.model_selection import GridSearchCV\n",
    "from sklearn.utils import shuffle # to shuffle the data \n",
    "\n",
    "import matplotlib as mpl\n",
    "import matplotlib.pyplot as plt\n",
    "%matplotlib inline\n",
    "plt.style.use('seaborn-whitegrid')\n",
    "\n",
    "from subprocess import check_output\n",
    "from wordcloud import WordCloud, STOPWORDS\n",
    "from sklearn.model_selection import KFold, StratifiedKFold\n",
    "import nltk\n",
    "#nltk.download('stopwords')\n",
    "from nltk.corpus import stopwords\n",
    "from nltk.stem.porter import PorterStemmer\n",
    "\n"
   ]
  },
  {
   "cell_type": "markdown",
   "metadata": {},
   "source": [
    "### importing the dataframe"
   ]
  },
  {
   "cell_type": "code",
   "execution_count": 3,
   "metadata": {},
   "outputs": [],
   "source": [
    "data = pd.read_csv(\"train_tweet.csv\")"
   ]
  },
  {
   "cell_type": "markdown",
   "metadata": {},
   "source": [
    "### checking for null values in dataset "
   ]
  },
  {
   "cell_type": "code",
   "execution_count": 4,
   "metadata": {},
   "outputs": [
    {
     "data": {
      "text/plain": [
       "id       0\n",
       "label    0\n",
       "tweet    0\n",
       "dtype: int64"
      ]
     },
     "execution_count": 4,
     "metadata": {},
     "output_type": "execute_result"
    }
   ],
   "source": [
    "data.isnull().sum()"
   ]
  },
  {
   "cell_type": "markdown",
   "metadata": {},
   "source": [
    "### Shuffle the data to decrease the chance of overfitting "
   ]
  },
  {
   "cell_type": "code",
   "execution_count": 5,
   "metadata": {},
   "outputs": [],
   "source": [
    "dataset = shuffle(data)"
   ]
  },
  {
   "cell_type": "markdown",
   "metadata": {},
   "source": [
    "### counting the number of positive and negative tweets in the dataset "
   ]
  },
  {
   "cell_type": "code",
   "execution_count": 6,
   "metadata": {},
   "outputs": [
    {
     "data": {
      "text/plain": [
       "0    29720\n",
       "1     2242\n",
       "Name: label, dtype: int64"
      ]
     },
     "execution_count": 6,
     "metadata": {},
     "output_type": "execute_result"
    }
   ],
   "source": [
    "dataset['label'].value_counts()"
   ]
  },
  {
   "cell_type": "code",
   "execution_count": 7,
   "metadata": {},
   "outputs": [
    {
     "data": {
      "text/plain": [
       "(31962, 3)"
      ]
     },
     "execution_count": 7,
     "metadata": {},
     "output_type": "execute_result"
    }
   ],
   "source": [
    "dataset.shape"
   ]
  },
  {
   "cell_type": "code",
   "execution_count": 8,
   "metadata": {},
   "outputs": [],
   "source": [
    "dataset = dataset.reset_index(drop = True)  # resetting the index"
   ]
  },
  {
   "cell_type": "code",
   "execution_count": 9,
   "metadata": {},
   "outputs": [
    {
     "data": {
      "text/html": [
       "<div>\n",
       "<style scoped>\n",
       "    .dataframe tbody tr th:only-of-type {\n",
       "        vertical-align: middle;\n",
       "    }\n",
       "\n",
       "    .dataframe tbody tr th {\n",
       "        vertical-align: top;\n",
       "    }\n",
       "\n",
       "    .dataframe thead th {\n",
       "        text-align: right;\n",
       "    }\n",
       "</style>\n",
       "<table border=\"1\" class=\"dataframe\">\n",
       "  <thead>\n",
       "    <tr style=\"text-align: right;\">\n",
       "      <th></th>\n",
       "      <th>id</th>\n",
       "      <th>label</th>\n",
       "      <th>tweet</th>\n",
       "    </tr>\n",
       "  </thead>\n",
       "  <tbody>\n",
       "    <tr>\n",
       "      <th>0</th>\n",
       "      <td>31655</td>\n",
       "      <td>0</td>\n",
       "      <td>@user we are so   and we just can't hide it! ...</td>\n",
       "    </tr>\n",
       "    <tr>\n",
       "      <th>1</th>\n",
       "      <td>5528</td>\n",
       "      <td>1</td>\n",
       "      <td>i have been open about hvg #fibromyalgia &amp;amp;...</td>\n",
       "    </tr>\n",
       "    <tr>\n",
       "      <th>2</th>\n",
       "      <td>16287</td>\n",
       "      <td>0</td>\n",
       "      <td>foods for #healing your body!!    #altwaystohe...</td>\n",
       "    </tr>\n",
       "    <tr>\n",
       "      <th>3</th>\n",
       "      <td>16953</td>\n",
       "      <td>0</td>\n",
       "      <td>doing more of the things that makes me   ! ð...</td>\n",
       "    </tr>\n",
       "    <tr>\n",
       "      <th>4</th>\n",
       "      <td>16405</td>\n",
       "      <td>0</td>\n",
       "      <td>unreal. knew it would only be a matter of time...</td>\n",
       "    </tr>\n",
       "  </tbody>\n",
       "</table>\n",
       "</div>"
      ],
      "text/plain": [
       "      id  label                                              tweet\n",
       "0  31655      0   @user we are so   and we just can't hide it! ...\n",
       "1   5528      1  i have been open about hvg #fibromyalgia &amp;...\n",
       "2  16287      0  foods for #healing your body!!    #altwaystohe...\n",
       "3  16953      0  doing more of the things that makes me   ! ð...\n",
       "4  16405      0  unreal. knew it would only be a matter of time..."
      ]
     },
     "execution_count": 9,
     "metadata": {},
     "output_type": "execute_result"
    }
   ],
   "source": [
    "dataset.head()"
   ]
  },
  {
   "cell_type": "markdown",
   "metadata": {},
   "source": [
    "making one more column with sentiments of the tweets"
   ]
  },
  {
   "cell_type": "code",
   "execution_count": 10,
   "metadata": {},
   "outputs": [],
   "source": [
    "from textblob import TextBlob\n",
    "dataset['sentiment'] = dataset['tweet'].map(lambda text: TextBlob(text).sentiment.polarity)"
   ]
  },
  {
   "cell_type": "code",
   "execution_count": 11,
   "metadata": {},
   "outputs": [
    {
     "data": {
      "text/html": [
       "<div>\n",
       "<style scoped>\n",
       "    .dataframe tbody tr th:only-of-type {\n",
       "        vertical-align: middle;\n",
       "    }\n",
       "\n",
       "    .dataframe tbody tr th {\n",
       "        vertical-align: top;\n",
       "    }\n",
       "\n",
       "    .dataframe thead th {\n",
       "        text-align: right;\n",
       "    }\n",
       "</style>\n",
       "<table border=\"1\" class=\"dataframe\">\n",
       "  <thead>\n",
       "    <tr style=\"text-align: right;\">\n",
       "      <th></th>\n",
       "      <th>id</th>\n",
       "      <th>label</th>\n",
       "      <th>tweet</th>\n",
       "      <th>sentiment</th>\n",
       "    </tr>\n",
       "  </thead>\n",
       "  <tbody>\n",
       "    <tr>\n",
       "      <th>0</th>\n",
       "      <td>31655</td>\n",
       "      <td>0</td>\n",
       "      <td>@user we are so   and we just can't hide it! ...</td>\n",
       "      <td>0.000000</td>\n",
       "    </tr>\n",
       "    <tr>\n",
       "      <th>1</th>\n",
       "      <td>5528</td>\n",
       "      <td>1</td>\n",
       "      <td>i have been open about hvg #fibromyalgia &amp;amp;...</td>\n",
       "      <td>0.066667</td>\n",
       "    </tr>\n",
       "    <tr>\n",
       "      <th>2</th>\n",
       "      <td>16287</td>\n",
       "      <td>0</td>\n",
       "      <td>foods for #healing your body!!    #altwaystohe...</td>\n",
       "      <td>0.781250</td>\n",
       "    </tr>\n",
       "    <tr>\n",
       "      <th>3</th>\n",
       "      <td>16953</td>\n",
       "      <td>0</td>\n",
       "      <td>doing more of the things that makes me   ! ð...</td>\n",
       "      <td>0.625000</td>\n",
       "    </tr>\n",
       "    <tr>\n",
       "      <th>4</th>\n",
       "      <td>16405</td>\n",
       "      <td>0</td>\n",
       "      <td>unreal. knew it would only be a matter of time...</td>\n",
       "      <td>0.000000</td>\n",
       "    </tr>\n",
       "  </tbody>\n",
       "</table>\n",
       "</div>"
      ],
      "text/plain": [
       "      id  label                                              tweet  sentiment\n",
       "0  31655      0   @user we are so   and we just can't hide it! ...   0.000000\n",
       "1   5528      1  i have been open about hvg #fibromyalgia &amp;...   0.066667\n",
       "2  16287      0  foods for #healing your body!!    #altwaystohe...   0.781250\n",
       "3  16953      0  doing more of the things that makes me   ! ð...   0.625000\n",
       "4  16405      0  unreal. knew it would only be a matter of time...   0.000000"
      ]
     },
     "execution_count": 11,
     "metadata": {},
     "output_type": "execute_result"
    }
   ],
   "source": [
    "dataset.head()"
   ]
  },
  {
   "cell_type": "markdown",
   "metadata": {},
   "source": [
    "### printing top positive & negative tweets "
   ]
  },
  {
   "cell_type": "code",
   "execution_count": 12,
   "metadata": {
    "scrolled": true
   },
   "outputs": [
    {
     "name": "stdout",
     "output_type": "stream",
     "text": [
      "5 random tweets with highest positive sentiment polarity: \n",
      "\n",
      "let this be a great summer! #sohyped  \n",
      "\n",
      "beautiful event on june 25th 2016 in tilburg ! \n",
      "\n",
      "  #monday! it's going to be a #beautiful day! make it great! #summerisnear #eyecareâ¦ \n",
      "\n",
      "rashford in for lallana ! england is going for a win ! i think gary neville is making decisions instead of hodgson. #engwal #euros  \n",
      "\n",
      "according to @user @user is the best iphone app in 2016! â¡ï¸page 6â¬",
      "ï¸ ððð¼    \n",
      "\n"
     ]
    }
   ],
   "source": [
    "print(\"5 random tweets with highest positive sentiment polarity: \\n\")\n",
    "cL = dataset.loc[dataset.sentiment==1, ['tweet']].sample(5).values\n",
    "for c in cL:\n",
    "    print(c[0])\n",
    "    print()"
   ]
  },
  {
   "cell_type": "code",
   "execution_count": 13,
   "metadata": {},
   "outputs": [
    {
     "name": "stdout",
     "output_type": "stream",
     "text": [
      "5 random tweets with highest nagative sentiment polarity: \n",
      "\n",
      "ffs why?!!! omg can't believe this. so annoyed!!!!!! why would someone do this? ð¡ðð¢  #carproblems #fml #vandals   \n",
      "\n",
      "how utterly pathetic. wish ali was around to beat this person senseless.  \n",
      "\n",
      "show me your tits, idiot! \n",
      "\n",
      "the worst thing about quitting smoking is the fact i wanna eat everything.....including people's heads ð   #nicotinewithdrawal\n",
      "\n",
      "wrestler invited a #punjabi kudi in ... -    #shocking #viral #woman #wt \n",
      "\n"
     ]
    }
   ],
   "source": [
    "print(\"5 random tweets with highest nagative sentiment polarity: \\n\")\n",
    "cL = dataset.loc[dataset.sentiment==-1, ['tweet']].sample(5).values\n",
    "for c in cL:\n",
    "    print(c[0])\n",
    "    print()"
   ]
  },
  {
   "cell_type": "markdown",
   "metadata": {},
   "source": [
    "### Cleaning the dataset "
   ]
  },
  {
   "cell_type": "code",
   "execution_count": 18,
   "metadata": {},
   "outputs": [],
   "source": [
    "# Cleaning the texts\n",
    "corpus = []\n",
    "for i in range(0, 31962):\n",
    "    tweet = re.sub('[^a-zA-Z]', ' ', dataset['tweet'][i])\n",
    "    tweet = tweet.lower()\n",
    "    tweet = tweet.split()\n",
    "    ps = PorterStemmer()\n",
    "    tweet = [ps.stem(word) for word in tweet if not word in set(stopwords.words('english'))]\n",
    "    tweet = ' '.join(tweet)\n",
    "    corpus.append(tweet)"
   ]
  },
  {
   "cell_type": "markdown",
   "metadata": {},
   "source": [
    "### saving the corpus of shuffled data"
   ]
  },
  {
   "cell_type": "code",
   "execution_count": 19,
   "metadata": {},
   "outputs": [],
   "source": [
    "#save the corpus\n",
    "np.save('tweet_cleaned_corpus.npy', corpus)"
   ]
  },
  {
   "cell_type": "code",
   "execution_count": 14,
   "metadata": {},
   "outputs": [],
   "source": [
    "#load corpus\n",
    "corpus = np.load('tweet_cleaned_corpus_shuffled.npy', mmap_mode=None, allow_pickle=True, fix_imports=True, encoding='ASCII')"
   ]
  },
  {
   "cell_type": "markdown",
   "metadata": {},
   "source": [
    "### making the wordclud model of whole tweets in dataset"
   ]
  },
  {
   "cell_type": "code",
   "execution_count": 23,
   "metadata": {},
   "outputs": [
    {
     "data": {
      "image/png": "[encoded data removed]",
      "text/plain": [
       "<Figure size 576x432 with 1 Axes>"
      ]
     },
     "metadata": {},
     "output_type": "display_data"
    }
   ],
   "source": [
    "mpl.rcParams['figure.figsize']=(8.0,6.0)    #(6.0,4.0)\n",
    "mpl.rcParams['font.size']=12                #10 \n",
    "mpl.rcParams['savefig.dpi']=100             #72 \n",
    "mpl.rcParams['figure.subplot.bottom']=.1 \n",
    "\n",
    "\n",
    "stopwords = set(STOPWORDS)\n",
    "\n",
    "wordcloud = WordCloud(\n",
    "                          background_color='white',\n",
    "                          stopwords=stopwords,\n",
    "                          max_words=200,\n",
    "                          max_font_size=80, \n",
    "                          random_state=42\n",
    "                         ).generate(str(dataset['tweet']))\n",
    "\n",
    "fig = plt.figure(1)\n",
    "plt.imshow(wordcloud)\n",
    "plt.axis('off')\n",
    "plt.show()"
   ]
  },
  {
   "cell_type": "markdown",
   "metadata": {},
   "source": [
    "### making the wordcloud model of clean corpus of shuffled dataset"
   ]
  },
  {
   "cell_type": "code",
   "execution_count": 24,
   "metadata": {},
   "outputs": [
    {
     "data": {
      "image/png": "[encoded data removed]",
      "text/plain": [
       "<Figure size 576x432 with 1 Axes>"
      ]
     },
     "metadata": {},
     "output_type": "display_data"
    }
   ],
   "source": [
    "mpl.rcParams['figure.figsize']=(8.0,6.0)    #(6.0,4.0)\n",
    "mpl.rcParams['font.size']=12                #10 \n",
    "mpl.rcParams['savefig.dpi']=100             #72 \n",
    "mpl.rcParams['figure.subplot.bottom']=.1 \n",
    "\n",
    "\n",
    "stopwords = set(STOPWORDS)\n",
    "\n",
    "wordcloud = WordCloud(\n",
    "                          background_color='white',\n",
    "                          stopwords=stopwords,\n",
    "                          max_words=200,\n",
    "                          max_font_size=80, \n",
    "                          random_state=42\n",
    "                         ).generate(str(corpus))\n",
    "\n",
    "fig = plt.figure(1)\n",
    "plt.imshow(wordcloud)\n",
    "plt.axis('off')\n",
    "plt.show()"
   ]
  },
  {
   "cell_type": "markdown",
   "metadata": {},
   "source": [
    "# TF/IDF vectorizer "
   ]
  },
  {
   "cell_type": "markdown",
   "metadata": {},
   "source": [
    "On applying tfidf the accuracy we got for different models are Naive bayes - 80.8%, LR (grid - 96%), rf - 96.4%, KNN - 94.6%, ann - 95.9%, "
   ]
  },
  {
   "cell_type": "code",
   "execution_count": 23,
   "metadata": {},
   "outputs": [],
   "source": [
    "from sklearn.feature_extraction.text import TfidfVectorizer \n",
    "# settings that you use for count vectorizer will go here\n",
    "\n",
    "# max_df = 0.50 means \"It ignores terms that appear in more than 50% of the documents\".min_df = 0.01 means \"ignore terms that appear in less than 1% of the documents\".\n",
    "# min_df = 5 means \"ignore terms that appear in less than 5 documents\".\n",
    "\n",
    "tfidf_vectorizer = TfidfVectorizer(use_idf=True, stop_words = {'english'},ngram_range=(1, 2),min_df=5, max_df = 0.3)\n",
    " \n",
    "# just send in all your docs here\n",
    "X_tf = tfidf_vectorizer.fit_transform(corpus)\n",
    "y = dataset.iloc[:, 1].values"
   ]
  },
  {
   "cell_type": "code",
   "execution_count": 24,
   "metadata": {},
   "outputs": [
    {
     "data": {
      "text/plain": [
       "((31962, 8844), (31962,))"
      ]
     },
     "execution_count": 24,
     "metadata": {},
     "output_type": "execute_result"
    }
   ],
   "source": [
    "X_tf.shape, y.shape"
   ]
  },
  {
   "cell_type": "code",
   "execution_count": 25,
   "metadata": {},
   "outputs": [],
   "source": [
    "# Splitting the dataset into the Training set and Test set\n",
    "from sklearn.model_selection import train_test_split\n",
    "X_train, X_test, y_train, y_test = train_test_split(X_tf.toarray(), y, test_size = 0.25, random_state = 0, stratify = y)"
   ]
  },
  {
   "cell_type": "markdown",
   "metadata": {},
   "source": [
    "on applying normal split method the model was generating poor precision and recall for negative category, so\n",
    "i appliedstratified data split technique and shuffling the data to reduce the chance of overfitting."
   ]
  },
  {
   "cell_type": "markdown",
   "metadata": {},
   "source": [
    "### Creating count vectorizer separately "
   ]
  },
  {
   "cell_type": "code",
   "execution_count": 15,
   "metadata": {},
   "outputs": [],
   "source": [
    "# Creating the Bag of Words model\n",
    "from sklearn.feature_extraction.text import CountVectorizer\n",
    "cv = CountVectorizer(ngram_range=(1,3),max_features= 20000, stop_words= 'english' )\n",
    "cv.fit(corpus)\n",
    "X = cv.transform(corpus).toarray()\n",
    "y = dataset.iloc[:, 1].values"
   ]
  },
  {
   "cell_type": "code",
   "execution_count": 16,
   "metadata": {},
   "outputs": [
    {
     "data": {
      "text/plain": [
       "['cv.pkl']"
      ]
     },
     "execution_count": 16,
     "metadata": {},
     "output_type": "execute_result"
    }
   ],
   "source": [
    "# save countvectorizer model as pikel file \n",
    "joblib.dump(cv, 'cv.pkl') "
   ]
  },
  {
   "cell_type": "code",
   "execution_count": 12,
   "metadata": {},
   "outputs": [],
   "source": [
    "# # Load the matrix from the file \n",
    "# cv = joblib.load('cv.pkl') "
   ]
  },
  {
   "cell_type": "code",
   "execution_count": 17,
   "metadata": {},
   "outputs": [],
   "source": [
    "X_cv = cv.transform(corpus).toarray()\n",
    "y_cv = dataset.iloc[:, 1].values"
   ]
  },
  {
   "cell_type": "code",
   "execution_count": 18,
   "metadata": {},
   "outputs": [],
   "source": [
    "# Splitting the dataset into the Training set and Test set\n",
    "from sklearn.model_selection import train_test_split\n",
    "Xcv_train, Xcv_test, ycv_train, ycv_test = train_test_split(X_cv, y_cv, test_size = 0.25, random_state = 0)"
   ]
  },
  {
   "cell_type": "markdown",
   "metadata": {},
   "source": [
    "### Naive Bayes (93%-same)"
   ]
  },
  {
   "cell_type": "code",
   "execution_count": 19,
   "metadata": {},
   "outputs": [
    {
     "data": {
      "text/plain": [
       "GaussianNB(priors=None, var_smoothing=1e-09)"
      ]
     },
     "execution_count": 19,
     "metadata": {},
     "output_type": "execute_result"
    }
   ],
   "source": [
    "# Fitting Naive Bayes to the Training set(CV)\n",
    "from sklearn.naive_bayes import GaussianNB\n",
    "classifier_naive = GaussianNB()\n",
    "classifier_naive.fit(Xcv_train, ycv_train)"
   ]
  },
  {
   "cell_type": "code",
   "execution_count": 20,
   "metadata": {},
   "outputs": [],
   "source": [
    "# Predicting the Test set results\n",
    "y_pred_cv_naive = classifier_naive.predict(Xcv_test)"
   ]
  },
  {
   "cell_type": "code",
   "execution_count": 21,
   "metadata": {},
   "outputs": [],
   "source": [
    "# Predicting the Train set results\n",
    "y_pred_cv_naive_train = classifier_naive.predict(Xcv_train)"
   ]
  },
  {
   "cell_type": "code",
   "execution_count": 23,
   "metadata": {},
   "outputs": [
    {
     "name": "stdout",
     "output_type": "stream",
     "text": [
      "              precision    recall  f1-score   support\n",
      "\n",
      "    negative       0.93      0.78      0.85      7434\n",
      "    positive       0.07      0.23      0.11       557\n",
      "\n",
      "    accuracy                           0.74      7991\n",
      "   macro avg       0.50      0.50      0.48      7991\n",
      "weighted avg       0.87      0.74      0.80      7991\n",
      "\n"
     ]
    }
   ],
   "source": [
    "# tfidf(stratified) + naive (test) classificaion score \n",
    "target_names = ['negative', 'positive']\n",
    "print(classification_report(ycv_test, y_pred_cv_naive, target_names= target_names))"
   ]
  },
  {
   "cell_type": "code",
   "execution_count": 25,
   "metadata": {},
   "outputs": [
    {
     "name": "stdout",
     "output_type": "stream",
     "text": [
      "              precision    recall  f1-score   support\n",
      "\n",
      "    negative       1.00      0.80      0.89     22286\n",
      "    positive       0.27      1.00      0.42      1685\n",
      "\n",
      "    accuracy                           0.81     23971\n",
      "   macro avg       0.63      0.90      0.66     23971\n",
      "weighted avg       0.95      0.81      0.85     23971\n",
      "\n"
     ]
    }
   ],
   "source": [
    "# tfidf(stratified) + naive (train) classificaion score \n",
    "target_names = ['negative', 'positive']\n",
    "print(classification_report(ycv_train, y_pred_cv_naive_train, target_names= target_names))"
   ]
  },
  {
   "cell_type": "code",
   "execution_count": 28,
   "metadata": {},
   "outputs": [
    {
     "data": {
      "text/plain": [
       "GaussianNB(priors=None, var_smoothing=1e-09)"
      ]
     },
     "execution_count": 28,
     "metadata": {},
     "output_type": "execute_result"
    }
   ],
   "source": [
    "# Fitting Naive Bayes to the Training set for Tf-idf\n",
    "from sklearn.naive_bayes import GaussianNB\n",
    "classifier_naive = GaussianNB()\n",
    "classifier_naive.fit(X_train, y_train)"
   ]
  },
  {
   "cell_type": "code",
   "execution_count": 29,
   "metadata": {},
   "outputs": [],
   "source": [
    "# Predicting the Test set results\n",
    "y_pred_naive = classifier_naive.predict(X_test)"
   ]
  },
  {
   "cell_type": "code",
   "execution_count": 32,
   "metadata": {},
   "outputs": [
    {
     "name": "stdout",
     "output_type": "stream",
     "text": [
      "              precision    recall  f1-score   support\n",
      "\n",
      "    negative       0.97      0.88      0.92      7430\n",
      "    positive       0.29      0.65      0.40       561\n",
      "\n",
      "    accuracy                           0.86      7991\n",
      "   macro avg       0.63      0.77      0.66      7991\n",
      "weighted avg       0.92      0.86      0.89      7991\n",
      "\n"
     ]
    }
   ],
   "source": [
    "# tfidf(stratified) + naive (test) classificaion score \n",
    "target_names = ['negative', 'positive']\n",
    "print(classification_report(y_test, y_pred_naive, target_names= target_names))"
   ]
  },
  {
   "cell_type": "code",
   "execution_count": 33,
   "metadata": {},
   "outputs": [],
   "source": [
    "# Predicting the Train set results\n",
    "y_pred_naive_train = classifier_naive.predict(X_train)"
   ]
  },
  {
   "cell_type": "code",
   "execution_count": 34,
   "metadata": {},
   "outputs": [
    {
     "name": "stdout",
     "output_type": "stream",
     "text": [
      "              precision    recall  f1-score   support\n",
      "\n",
      "    negative       1.00      0.88      0.94     22290\n",
      "    positive       0.39      1.00      0.56      1681\n",
      "\n",
      "    accuracy                           0.89     23971\n",
      "   macro avg       0.69      0.94      0.75     23971\n",
      "weighted avg       0.96      0.89      0.91     23971\n",
      "\n"
     ]
    }
   ],
   "source": [
    "# tfidf(stratified) + naive (train) classificaion score \n",
    "target_names = ['negative', 'positive']\n",
    "print(classification_report(y_train, y_pred_naive_train, target_names= target_names))"
   ]
  },
  {
   "cell_type": "markdown",
   "metadata": {},
   "source": [
    "on applying naive bayes model the best accuracy we obtained is 86% which was same for tf-idf method and count\n",
    "vectoriser method."
   ]
  },
  {
   "cell_type": "markdown",
   "metadata": {},
   "source": [
    "### Logistic Regression (96.4 - cv, 96.15- tfidf)"
   ]
  },
  {
   "cell_type": "code",
   "execution_count": 26,
   "metadata": {},
   "outputs": [],
   "source": [
    "from sklearn.linear_model import LogisticRegression"
   ]
  },
  {
   "cell_type": "code",
   "execution_count": 36,
   "metadata": {},
   "outputs": [
    {
     "data": {
      "text/plain": [
       "(23971, 8844)"
      ]
     },
     "execution_count": 36,
     "metadata": {},
     "output_type": "execute_result"
    }
   ],
   "source": [
    "X_train.shape"
   ]
  },
  {
   "cell_type": "markdown",
   "metadata": {},
   "source": [
    "applying grid search to get the optimal parameter for our model to get the best accuracy below i have applied grid\n",
    "search for both count-vectorizer matrix and tf-idf matrix."
   ]
  },
  {
   "cell_type": "code",
   "execution_count": 38,
   "metadata": {},
   "outputs": [
    {
     "data": {
      "text/plain": [
       "GridSearchCV(cv=10, error_score=nan,\n",
       "             estimator=LogisticRegression(C=1.0, class_weight=None, dual=False,\n",
       "                                          fit_intercept=True,\n",
       "                                          intercept_scaling=1, l1_ratio=None,\n",
       "                                          max_iter=100, multi_class='auto',\n",
       "                                          n_jobs=None, penalty='l2',\n",
       "                                          random_state=None, solver='lbfgs',\n",
       "                                          tol=0.0001, verbose=0,\n",
       "                                          warm_start=False),\n",
       "             iid='deprecated', n_jobs=None,\n",
       "             param_grid={'C': [0.001, 0.009, 0.01, 0.09, 1, 5, 10, 25],\n",
       "                         'penalty': ['l1', 'l2']},\n",
       "             pre_dispatch='2*n_jobs', refit=True, return_train_score=False,\n",
       "             scoring=None, verbose=0)"
      ]
     },
     "execution_count": 38,
     "metadata": {},
     "output_type": "execute_result"
    }
   ],
   "source": [
    "#Grid Search(tfidf)\n",
    "from sklearn.model_selection import GridSearchCV\n",
    "clf_grid_new = LogisticRegression()\n",
    "grid_values = {'penalty': ['l1', 'l2'],'C':[0.001,.009,0.01,.09,1,5,10,25]}\n",
    "grid_clf_acc_new = GridSearchCV(clf_grid_new, param_grid = grid_values, cv = 10)\n",
    "grid_clf_acc_new.fit(X_train, y_train)"
   ]
  },
  {
   "cell_type": "markdown",
   "metadata": {},
   "source": [
    "applying grid search for stratified data to compare the result with other methods"
   ]
  },
  {
   "cell_type": "code",
   "execution_count": 39,
   "metadata": {},
   "outputs": [],
   "source": [
    "y_pred_logistic_test = grid_clf_acc_new.predict(X_test)"
   ]
  },
  {
   "cell_type": "code",
   "execution_count": 40,
   "metadata": {},
   "outputs": [],
   "source": [
    "y_pred_logistic_train = grid_clf_acc_new.predict(X_train)"
   ]
  },
  {
   "cell_type": "code",
   "execution_count": 41,
   "metadata": {},
   "outputs": [
    {
     "name": "stdout",
     "output_type": "stream",
     "text": [
      "              precision    recall  f1-score   support\n",
      "\n",
      "    negative       0.97      0.99      0.98      7430\n",
      "    positive       0.81      0.61      0.70       561\n",
      "\n",
      "    accuracy                           0.96      7991\n",
      "   macro avg       0.89      0.80      0.84      7991\n",
      "weighted avg       0.96      0.96      0.96      7991\n",
      "\n"
     ]
    }
   ],
   "source": [
    "# New Model Evaluation metrics for test data(Tf-Idf)\n",
    "target_names = ['negative', 'positive']\n",
    "print(classification_report(y_test, y_pred_logistic_test, target_names= target_names))"
   ]
  },
  {
   "cell_type": "code",
   "execution_count": 42,
   "metadata": {},
   "outputs": [
    {
     "name": "stdout",
     "output_type": "stream",
     "text": [
      "              precision    recall  f1-score   support\n",
      "\n",
      "    negative       0.99      1.00      1.00     22290\n",
      "    positive       0.99      0.93      0.96      1681\n",
      "\n",
      "    accuracy                           0.99     23971\n",
      "   macro avg       0.99      0.96      0.98     23971\n",
      "weighted avg       0.99      0.99      0.99     23971\n",
      "\n"
     ]
    }
   ],
   "source": [
    "# New Model Evaluation metrics for train data(Tf-Idf)\n",
    "target_names = ['negative', 'positive']\n",
    "print(classification_report(y_train, y_pred_logistic_train, target_names= target_names))"
   ]
  },
  {
   "cell_type": "markdown",
   "metadata": {},
   "source": [
    " below is the result on applying count-vectorizer"
   ]
  },
  {
   "cell_type": "code",
   "execution_count": 29,
   "metadata": {},
   "outputs": [
    {
     "data": {
      "text/plain": [
       "GridSearchCV(cv=10, error_score=nan,\n",
       "             estimator=LogisticRegression(C=1.0, class_weight=None, dual=False,\n",
       "                                          fit_intercept=True,\n",
       "                                          intercept_scaling=1, l1_ratio=None,\n",
       "                                          max_iter=100, multi_class='auto',\n",
       "                                          n_jobs=None, penalty='l2',\n",
       "                                          random_state=None, solver='lbfgs',\n",
       "                                          tol=0.0001, verbose=0,\n",
       "                                          warm_start=False),\n",
       "             iid='deprecated', n_jobs=None,\n",
       "             param_grid={'C': [0.001, 0.009, 0.01, 0.09, 1, 5, 10, 25],\n",
       "                         'penalty': ['l1', 'l2']},\n",
       "             pre_dispatch='2*n_jobs', refit=True, return_train_score=False,\n",
       "             scoring=None, verbose=0)"
      ]
     },
     "execution_count": 29,
     "metadata": {},
     "output_type": "execute_result"
    }
   ],
   "source": [
    "#Grid Search (cv)\n",
    "from sklearn.model_selection import GridSearchCV\n",
    "clf_grid = LogisticRegression()\n",
    "grid_values = {'penalty': ['l1', 'l2'],'C':[0.001,.009,0.01,.09,1,5,10,25]}\n",
    "grid_clf_acc_cv = GridSearchCV(clf_grid, param_grid = grid_values, cv=10)\n",
    "grid_clf_acc_cv.fit(Xcv_train, ycv_train)"
   ]
  },
  {
   "cell_type": "code",
   "execution_count": 30,
   "metadata": {},
   "outputs": [],
   "source": [
    "#Predict values for (count vectoriser)\n",
    "y_pred_cv = grid_clf_acc_cv.predict(Xcv_test)"
   ]
  },
  {
   "cell_type": "code",
   "execution_count": 31,
   "metadata": {},
   "outputs": [],
   "source": [
    "y_pred_train_cv = grid_clf_acc_cv.predict(Xcv_train)"
   ]
  },
  {
   "cell_type": "code",
   "execution_count": 32,
   "metadata": {},
   "outputs": [
    {
     "name": "stdout",
     "output_type": "stream",
     "text": [
      "              precision    recall  f1-score   support\n",
      "\n",
      "    negative       0.93      1.00      0.96      7434\n",
      "    positive       0.00      0.00      0.00       557\n",
      "\n",
      "    accuracy                           0.93      7991\n",
      "   macro avg       0.47      0.50      0.48      7991\n",
      "weighted avg       0.87      0.93      0.90      7991\n",
      "\n"
     ]
    }
   ],
   "source": [
    "# New Model Evaluation metrics for test data(Tf-Idf)\n",
    "target_names = ['negative', 'positive']\n",
    "print(classification_report(ycv_test, y_pred_cv, target_names= target_names))"
   ]
  },
  {
   "cell_type": "code",
   "execution_count": 33,
   "metadata": {},
   "outputs": [
    {
     "name": "stdout",
     "output_type": "stream",
     "text": [
      "              precision    recall  f1-score   support\n",
      "\n",
      "    negative       0.93      1.00      0.96     22286\n",
      "    positive       0.00      0.00      0.00      1685\n",
      "\n",
      "    accuracy                           0.93     23971\n",
      "   macro avg       0.46      0.50      0.48     23971\n",
      "weighted avg       0.86      0.93      0.90     23971\n",
      "\n"
     ]
    }
   ],
   "source": [
    "# New Model Evaluation metrics for train data(Tf-Idf)\n",
    "target_names = ['negative', 'positive']\n",
    "print(classification_report(ycv_train, y_pred_train_cv, target_names= target_names))"
   ]
  },
  {
   "cell_type": "markdown",
   "metadata": {},
   "source": [
    "### random forest classifier "
   ]
  },
  {
   "cell_type": "code",
   "execution_count": 46,
   "metadata": {},
   "outputs": [],
   "source": [
    "from sklearn.ensemble import RandomForestClassifier"
   ]
  },
  {
   "cell_type": "code",
   "execution_count": 47,
   "metadata": {},
   "outputs": [],
   "source": [
    "classifier_rf = RandomForestClassifier(n_estimators= 500, criterion='entropy', random_state= 0) "
   ]
  },
  {
   "cell_type": "code",
   "execution_count": 48,
   "metadata": {},
   "outputs": [],
   "source": [
    "# classifier_rf_cv.fit(Xcv_train, ycv_train)"
   ]
  },
  {
   "cell_type": "code",
   "execution_count": 49,
   "metadata": {},
   "outputs": [
    {
     "data": {
      "text/plain": [
       "RandomForestClassifier(bootstrap=True, ccp_alpha=0.0, class_weight=None,\n",
       "                       criterion='entropy', max_depth=None, max_features='auto',\n",
       "                       max_leaf_nodes=None, max_samples=None,\n",
       "                       min_impurity_decrease=0.0, min_impurity_split=None,\n",
       "                       min_samples_leaf=1, min_samples_split=2,\n",
       "                       min_weight_fraction_leaf=0.0, n_estimators=500,\n",
       "                       n_jobs=None, oob_score=False, random_state=0, verbose=0,\n",
       "                       warm_start=False)"
      ]
     },
     "execution_count": 49,
     "metadata": {},
     "output_type": "execute_result"
    }
   ],
   "source": [
    "classifier_rf.fit(X_train, y_train)"
   ]
  },
  {
   "cell_type": "code",
   "execution_count": 50,
   "metadata": {},
   "outputs": [],
   "source": [
    "y_pred_rf_test = classifier_rf.predict(X_test)"
   ]
  },
  {
   "cell_type": "code",
   "execution_count": 51,
   "metadata": {},
   "outputs": [],
   "source": [
    "y_pred_rf_train = classifier_rf.predict(X_train)"
   ]
  },
  {
   "cell_type": "code",
   "execution_count": 52,
   "metadata": {},
   "outputs": [
    {
     "name": "stdout",
     "output_type": "stream",
     "text": [
      "              precision    recall  f1-score   support\n",
      "\n",
      "    negative       0.97      1.00      0.98      7430\n",
      "    positive       0.89      0.54      0.68       561\n",
      "\n",
      "    accuracy                           0.96      7991\n",
      "   macro avg       0.93      0.77      0.83      7991\n",
      "weighted avg       0.96      0.96      0.96      7991\n",
      "\n"
     ]
    }
   ],
   "source": [
    "# New Model Evaluation metrics for test data(Tf-Idf)\n",
    "target_names = ['negative', 'positive']\n",
    "print(classification_report(y_test, y_pred_rf_test, target_names= target_names))"
   ]
  },
  {
   "cell_type": "code",
   "execution_count": 53,
   "metadata": {},
   "outputs": [
    {
     "name": "stdout",
     "output_type": "stream",
     "text": [
      "              precision    recall  f1-score   support\n",
      "\n",
      "    negative       1.00      1.00      1.00     22290\n",
      "    positive       1.00      0.99      1.00      1681\n",
      "\n",
      "    accuracy                           1.00     23971\n",
      "   macro avg       1.00      1.00      1.00     23971\n",
      "weighted avg       1.00      1.00      1.00     23971\n",
      "\n"
     ]
    }
   ],
   "source": [
    "# New Model Evaluation metrics for train data(Tf-Idf)\n",
    "target_names = ['negative', 'positive']\n",
    "print(classification_report(y_train, y_pred_rf_train, target_names= target_names))"
   ]
  },
  {
   "cell_type": "code",
   "execution_count": null,
   "metadata": {},
   "outputs": [],
   "source": []
  },
  {
   "cell_type": "code",
   "execution_count": 54,
   "metadata": {},
   "outputs": [],
   "source": [
    "# y_pred_cv = classifier_rf_cv.predict(Xcv_test)"
   ]
  },
  {
   "cell_type": "code",
   "execution_count": 44,
   "metadata": {},
   "outputs": [],
   "source": [
    "# y_pred_train_cv =  classifier_rf_cv.predict(Xcv_train)"
   ]
  },
  {
   "cell_type": "code",
   "execution_count": 45,
   "metadata": {},
   "outputs": [
    {
     "name": "stdout",
     "output_type": "stream",
     "text": [
      "Accuracy Score : 0.9997496975512077\n",
      "Precision Score : 1.0\n",
      "Recall Score : 0.9964932787843367\n",
      "F1 Score : 0.9982435597189696\n"
     ]
    }
   ],
   "source": [
    "# New Model Evaluation metrics for training data of countvectoriser\n",
    "print('Accuracy Score : ' + str(accuracy_score(ycv_train,y_pred_train_cv)))\n",
    "print('Precision Score : ' + str(precision_score(ycv_train,y_pred_train_cv)))\n",
    "print('Recall Score : ' + str(recall_score(ycv_train,y_pred_train_cv)))\n",
    "print('F1 Score : ' + str(f1_score(ycv_train,y_pred_train_cv)))"
   ]
  },
  {
   "cell_type": "code",
   "execution_count": 47,
   "metadata": {},
   "outputs": [
    {
     "name": "stdout",
     "output_type": "stream",
     "text": [
      "Accuracy Score : 0.961706920285321\n",
      "Precision Score : 0.8504672897196262\n",
      "Recall Score : 0.5141242937853108\n",
      "F1 Score : 0.6408450704225352\n"
     ]
    }
   ],
   "source": [
    "# New Model Evaluation metrics testing countvectoriser data \n",
    "print('Accuracy Score : ' + str(accuracy_score(ycv_test,y_pred_cv)))\n",
    "print('Precision Score : ' + str(precision_score(ycv_test,y_pred_cv)))\n",
    "print('Recall Score : ' + str(recall_score(ycv_test,y_pred_cv)))\n",
    "print('F1 Score : ' + str(f1_score(ycv_test,y_pred_cv)))"
   ]
  },
  {
   "cell_type": "code",
   "execution_count": 111,
   "metadata": {},
   "outputs": [
    {
     "name": "stdout",
     "output_type": "stream",
     "text": [
      "Accuracy Score : 0.9996662634016102\n",
      "Precision Score : 1.0\n",
      "Recall Score : 0.6045197740112994\n",
      "F1 Score : 0.4424534803583735\n"
     ]
    }
   ],
   "source": [
    "# New Model Evaluation metrics training tfidf data\n",
    "print('Accuracy Score : ' + str(accuracy_score(y_train,y_pred_train)))\n",
    "print('Precision Score : ' + str(precision_score(y_train,y_pred_train)))\n",
    "print('Recall Score : ' + str(recall_score(y_test,y_pred)))\n",
    "print('F1 Score : ' + str(f1_score(y_test,y_pred)))"
   ]
  },
  {
   "cell_type": "code",
   "execution_count": 49,
   "metadata": {},
   "outputs": [
    {
     "name": "stdout",
     "output_type": "stream",
     "text": [
      "              precision    recall  f1-score   support\n",
      "\n",
      "    negative       0.97      0.99      0.98      7460\n",
      "    positive       0.85      0.51      0.64       531\n",
      "\n",
      "    accuracy                           0.96      7991\n",
      "   macro avg       0.91      0.75      0.81      7991\n",
      "weighted avg       0.96      0.96      0.96      7991\n",
      "\n"
     ]
    }
   ],
   "source": [
    "#model evaluation for testing countvectoriser data\n",
    "target_names = ['negative', 'positive']\n",
    "print(classification_report(ycv_test, y_pred_cv, target_names= target_names))"
   ]
  },
  {
   "cell_type": "code",
   "execution_count": 39,
   "metadata": {},
   "outputs": [
    {
     "name": "stdout",
     "output_type": "stream",
     "text": [
      "Accuracy Score : 0.9640845951695658\n",
      "Precision Score : 0.8935483870967742\n",
      "Recall Score : 0.5216572504708098\n",
      "F1 Score : 0.6587395957193818\n"
     ]
    }
   ],
   "source": [
    "# New Model Evaluation metrics tfidf test data \n",
    "print('Accuracy Score : ' + str(accuracy_score(y_test,y_pred)))\n",
    "print('Precision Score : ' + str(precision_score(y_test,y_pred)))\n",
    "print('Recall Score : ' + str(recall_score(y_test,y_pred)))\n",
    "print('F1 Score : ' + str(f1_score(y_test,y_pred)))"
   ]
  },
  {
   "cell_type": "code",
   "execution_count": 40,
   "metadata": {},
   "outputs": [
    {
     "name": "stdout",
     "output_type": "stream",
     "text": [
      "              precision    recall  f1-score   support\n",
      "\n",
      "    negative       0.97      1.00      0.98      7460\n",
      "    positive       0.89      0.52      0.66       531\n",
      "\n",
      "    accuracy                           0.96      7991\n",
      "   macro avg       0.93      0.76      0.82      7991\n",
      "weighted avg       0.96      0.96      0.96      7991\n",
      "\n"
     ]
    }
   ],
   "source": [
    "#model evaluation for testing tfidf data\n",
    "target_names = ['negative', 'positive']\n",
    "print(classification_report(y_test, y_pred, target_names= target_names))"
   ]
  },
  {
   "cell_type": "markdown",
   "metadata": {},
   "source": [
    "## fitting deep learning (tfidf + without max_feature - 95.94%)"
   ]
  },
  {
   "cell_type": "code",
   "execution_count": 28,
   "metadata": {},
   "outputs": [],
   "source": [
    "import tensorflow as tf\n",
    "import keras \n",
    "import time \n",
    "from keras.models import Sequential #(used to initialise the nural network)\n",
    "from keras.layers import Dense #(used to create the layers in ANN)"
   ]
  },
  {
   "cell_type": "code",
   "execution_count": 29,
   "metadata": {},
   "outputs": [
    {
     "name": "stdout",
     "output_type": "stream",
     "text": [
      "2.0.0\n"
     ]
    }
   ],
   "source": [
    "print(tf.version.VERSION)"
   ]
  },
  {
   "cell_type": "code",
   "execution_count": 30,
   "metadata": {},
   "outputs": [],
   "source": [
    "from tensorflow.keras import layers\n",
    "import tensorflow_datasets as tfds #contains tokeniser "
   ]
  },
  {
   "cell_type": "code",
   "execution_count": 31,
   "metadata": {},
   "outputs": [],
   "source": [
    "# Initialising the ANN\n",
    "classifier = Sequential()"
   ]
  },
  {
   "cell_type": "code",
   "execution_count": 32,
   "metadata": {},
   "outputs": [],
   "source": [
    "#adding the input and first hidden layer\n",
    "classifier.add(Dense(output_dim = 2500, init = 'uniform', activation = 'relu', input_dim = 8844 ))"
   ]
  },
  {
   "cell_type": "code",
   "execution_count": 33,
   "metadata": {},
   "outputs": [],
   "source": [
    "#adding second hidden layer (init is for weights)(relu is for rectifier function)\n",
    "classifier.add(Dense(output_dim = 1250, init = 'uniform', activation = 'relu'))\n",
    "classifier.add(Dense(output_dim = 625, init = 'uniform', activation = 'relu'))\n",
    "#adding the output layer ()\n",
    "classifier.add(Dense(output_dim = 1, init = 'uniform', activation = 'sigmoid'))"
   ]
  },
  {
   "cell_type": "code",
   "execution_count": 34,
   "metadata": {},
   "outputs": [],
   "source": [
    "#compiling the ANN\n",
    "classifier.compile(optimizer= 'adam', loss = 'binary_crossentropy', metrics = ['accuracy'])"
   ]
  },
  {
   "cell_type": "code",
   "execution_count": 35,
   "metadata": {},
   "outputs": [
    {
     "data": {
      "text/plain": [
       "(23971,)"
      ]
     },
     "execution_count": 35,
     "metadata": {},
     "output_type": "execute_result"
    }
   ],
   "source": [
    "y_train.shape"
   ]
  },
  {
   "cell_type": "code",
   "execution_count": 36,
   "metadata": {},
   "outputs": [
    {
     "data": {
      "text/plain": [
       "(23971, 8844)"
      ]
     },
     "execution_count": 36,
     "metadata": {},
     "output_type": "execute_result"
    }
   ],
   "source": [
    "X_train.shape"
   ]
  },
  {
   "cell_type": "code",
   "execution_count": 37,
   "metadata": {},
   "outputs": [
    {
     "name": "stdout",
     "output_type": "stream",
     "text": [
      "Model: \"sequential_1\"\n",
      "_________________________________________________________________\n",
      "Layer (type)                 Output Shape              Param #   \n",
      "=================================================================\n",
      "dense_1 (Dense)              (None, 2500)              22112500  \n",
      "_________________________________________________________________\n",
      "dense_2 (Dense)              (None, 1250)              3126250   \n",
      "_________________________________________________________________\n",
      "dense_3 (Dense)              (None, 625)               781875    \n",
      "_________________________________________________________________\n",
      "dense_4 (Dense)              (None, 1)                 626       \n",
      "=================================================================\n",
      "Total params: 26,021,251\n",
      "Trainable params: 26,021,251\n",
      "Non-trainable params: 0\n",
      "_________________________________________________________________\n"
     ]
    }
   ],
   "source": [
    "classifier.summary()"
   ]
  },
  {
   "cell_type": "code",
   "execution_count": 38,
   "metadata": {},
   "outputs": [
    {
     "name": "stdout",
     "output_type": "stream",
     "text": [
      "Epoch 1/5\n",
      "23971/23971 [==============================] - 939s 39ms/step - loss: 0.2746 - accuracy: 0.9297\n",
      "Epoch 2/5\n",
      "23971/23971 [==============================] - 1026s 43ms/step - loss: 0.2313 - accuracy: 0.9298\n",
      "Epoch 3/5\n",
      "23971/23971 [==============================] - 1056s 44ms/step - loss: 0.1629 - accuracy: 0.9348\n",
      "Epoch 4/5\n",
      "23971/23971 [==============================] - 980s 41ms/step - loss: 0.0883 - accuracy: 0.9693\n",
      "Epoch 5/5\n",
      "23971/23971 [==============================] - 885s 37ms/step - loss: 0.0555 - accuracy: 0.9809\n"
     ]
    },
    {
     "data": {
      "text/plain": [
       "<keras.callbacks.callbacks.History at 0x154ebbdd0>"
      ]
     },
     "execution_count": 38,
     "metadata": {},
     "output_type": "execute_result"
    }
   ],
   "source": [
    "#Fitting the ANN to the training set \n",
    "classifier.fit(X_train, y_train, batch_size = 10, nb_epoch = 5)"
   ]
  },
  {
   "cell_type": "code",
   "execution_count": 82,
   "metadata": {
    "collapsed": true
   },
   "outputs": [
    {
     "name": "stderr",
     "output_type": "stream",
     "text": [
      "/opt/anaconda3/lib/python3.7/site-packages/ipykernel_launcher.py:2: UserWarning: The `nb_epoch` argument in `fit` has been renamed `epochs`.\n",
      "  \n"
     ]
    },
    {
     "name": "stdout",
     "output_type": "stream",
     "text": [
      "Epoch 1/5\n",
      "23971/23971 [==============================] - 1808s 75ms/step - loss: 0.1528 - accuracy: 0.9542\n",
      "Epoch 2/5\n",
      "23971/23971 [==============================] - 2145s 89ms/step - loss: 0.0404 - accuracy: 0.9867\n",
      "Epoch 3/5\n",
      "23971/23971 [==============================] - 2243s 94ms/step - loss: 0.0115 - accuracy: 0.9967\n",
      "Epoch 4/5\n",
      "23971/23971 [==============================] - 1715s 72ms/step - loss: 0.0051 - accuracy: 0.9985\n",
      "Epoch 5/5\n",
      "23971/23971 [==============================] - 1696s 71ms/step - loss: 0.0040 - accuracy: 0.9990\n"
     ]
    },
    {
     "data": {
      "text/plain": [
       "<keras.callbacks.callbacks.History at 0x1e2a39bd90>"
      ]
     },
     "execution_count": 82,
     "metadata": {},
     "output_type": "execute_result"
    }
   ],
   "source": [
    "# #Fitting the ANN to the training set of countvectoriser  \n",
    "# classifier.fit(Xcv_train, ycv_train, batch_size = 10, nb_epoch = 5)"
   ]
  },
  {
   "cell_type": "code",
   "execution_count": 39,
   "metadata": {},
   "outputs": [],
   "source": [
    "y_pred = classifier.predict(X_test)"
   ]
  },
  {
   "cell_type": "code",
   "execution_count": 40,
   "metadata": {},
   "outputs": [],
   "source": [
    "y_train_pred = classifier.predict(X_train)"
   ]
  },
  {
   "cell_type": "code",
   "execution_count": 41,
   "metadata": {},
   "outputs": [],
   "source": [
    "y_pred = (y_pred > 0.5)"
   ]
  },
  {
   "cell_type": "code",
   "execution_count": 42,
   "metadata": {},
   "outputs": [],
   "source": [
    "y_train_pred = (y_train_pred > 0.5)"
   ]
  },
  {
   "cell_type": "code",
   "execution_count": 43,
   "metadata": {},
   "outputs": [
    {
     "name": "stdout",
     "output_type": "stream",
     "text": [
      "              precision    recall  f1-score   support\n",
      "\n",
      "    negative       0.93      0.98      0.95      7430\n",
      "    positive       0.10      0.03      0.05       561\n",
      "\n",
      "    accuracy                           0.91      7991\n",
      "   macro avg       0.51      0.50      0.50      7991\n",
      "weighted avg       0.87      0.91      0.89      7991\n",
      "\n"
     ]
    }
   ],
   "source": [
    "target_names = ['negative', 'positive']\n",
    "print(classification_report(y_test, y_pred, target_names= target_names))"
   ]
  },
  {
   "cell_type": "code",
   "execution_count": null,
   "metadata": {},
   "outputs": [],
   "source": []
  },
  {
   "cell_type": "code",
   "execution_count": null,
   "metadata": {},
   "outputs": [],
   "source": []
  },
  {
   "cell_type": "code",
   "execution_count": null,
   "metadata": {},
   "outputs": [],
   "source": []
  },
  {
   "cell_type": "code",
   "execution_count": 83,
   "metadata": {},
   "outputs": [],
   "source": [
    "y_pred_cv = classifier.predict(Xcv_test)"
   ]
  },
  {
   "cell_type": "code",
   "execution_count": 84,
   "metadata": {},
   "outputs": [],
   "source": [
    "y_train_pred_cv = classifier.predict(Xcv_train)"
   ]
  },
  {
   "cell_type": "code",
   "execution_count": 37,
   "metadata": {},
   "outputs": [],
   "source": [
    "y_pred_cv = (y_pred_cv > 0.5)\n",
    "y_train_pred_cv =(y_train_pred_cv>.5)"
   ]
  },
  {
   "cell_type": "code",
   "execution_count": 95,
   "metadata": {},
   "outputs": [
    {
     "name": "stdout",
     "output_type": "stream",
     "text": [
      "              precision    recall  f1-score   support\n",
      "\n",
      "    negative       1.00      1.00      1.00     22260\n",
      "    positive       1.00      0.98      0.99      1711\n",
      "\n",
      "    accuracy                           1.00     23971\n",
      "   macro avg       1.00      0.99      0.99     23971\n",
      "weighted avg       1.00      1.00      1.00     23971\n",
      "\n"
     ]
    }
   ],
   "source": [
    "# cv train data prediction result \n",
    "target_names = ['negative', 'positive']\n",
    "print(classification_report(ycv_train, y_train_pred_cv, target_names= target_names))"
   ]
  },
  {
   "cell_type": "code",
   "execution_count": 94,
   "metadata": {},
   "outputs": [
    {
     "name": "stdout",
     "output_type": "stream",
     "text": [
      "Accuracy Score : 0.9985816194568436\n",
      "Precision Score : 0.9952746603662138\n",
      "Recall Score : 0.9848042080654588\n",
      "F1 Score : 0.9900117508813161\n"
     ]
    }
   ],
   "source": [
    "# New Model Evaluation metrics (train + cv)\n",
    "print('Accuracy Score : ' + str(accuracy_score(ycv_train,y_train_pred_cv)))\n",
    "print('Precision Score : ' + str(precision_score(ycv_train,y_train_pred_cv)))\n",
    "print('Recall Score : ' + str(recall_score(ycv_train,y_train_pred_cv)))\n",
    "print('F1 Score : ' + str(f1_score(ycv_train,y_train_pred_cv)))"
   ]
  },
  {
   "cell_type": "code",
   "execution_count": 88,
   "metadata": {},
   "outputs": [],
   "source": [
    "# Load the model from the file(with 5000 features) \n",
    "tweet_classifier_ANN = joblib.load('tweet_classifier_ANN.pkl')  "
   ]
  },
  {
   "cell_type": "code",
   "execution_count": 89,
   "metadata": {},
   "outputs": [],
   "source": [
    "y_pred = tweet_classifier_ANN.predict(X_test) # here X_test has 8844 features "
   ]
  },
  {
   "cell_type": "code",
   "execution_count": 90,
   "metadata": {},
   "outputs": [],
   "source": [
    "y_pred = (y_pred > 0.5)"
   ]
  },
  {
   "cell_type": "code",
   "execution_count": 46,
   "metadata": {},
   "outputs": [
    {
     "name": "stdout",
     "output_type": "stream",
     "text": [
      "Model: \"sequential_1\"\n",
      "_________________________________________________________________\n",
      "Layer (type)                 Output Shape              Param #   \n",
      "=================================================================\n",
      "dense_1 (Dense)              (None, 2500)              22112500  \n",
      "_________________________________________________________________\n",
      "dense_2 (Dense)              (None, 1250)              3126250   \n",
      "_________________________________________________________________\n",
      "dense_3 (Dense)              (None, 625)               781875    \n",
      "_________________________________________________________________\n",
      "dense_4 (Dense)              (None, 1)                 626       \n",
      "=================================================================\n",
      "Total params: 26,021,251\n",
      "Trainable params: 26,021,251\n",
      "Non-trainable params: 0\n",
      "_________________________________________________________________\n"
     ]
    }
   ],
   "source": [
    "tweet_classifier_ANN.summary()"
   ]
  },
  {
   "cell_type": "code",
   "execution_count": 91,
   "metadata": {},
   "outputs": [
    {
     "data": {
      "text/plain": [
       "0.9594543861844576"
      ]
     },
     "execution_count": 91,
     "metadata": {},
     "output_type": "execute_result"
    }
   ],
   "source": [
    "# accuracy with 5000 features (95.69%)\n",
    "accuracy_score(y_pred, y_test)"
   ]
  },
  {
   "cell_type": "markdown",
   "metadata": {},
   "source": [
    "### Visualising the result "
   ]
  },
  {
   "cell_type": "code",
   "execution_count": 33,
   "metadata": {},
   "outputs": [],
   "source": [
    "# initialize list of lists \n",
    "data = [['Naive', 85.97, 88.97, 89.87, 93.03], ['LogisticRegression', 96.35, 98.5, 96.39, 99.48], ['RandomForest', 96.4, 99.9, 96.1, 99.9], ['ANN', 95.94, 99.9, 95.92, 99.85]] \n",
    "  \n",
    "# Create the pandas DataFrame \n",
    "df = pd.DataFrame(data, columns = ['Model', 'Tf-idf(test)', 'Tf-idf(train)', 'cv(test)', 'cv(train)']) "
   ]
  },
  {
   "cell_type": "code",
   "execution_count": 34,
   "metadata": {},
   "outputs": [
    {
     "data": {
      "text/html": [
       "<div>\n",
       "<style scoped>\n",
       "    .dataframe tbody tr th:only-of-type {\n",
       "        vertical-align: middle;\n",
       "    }\n",
       "\n",
       "    .dataframe tbody tr th {\n",
       "        vertical-align: top;\n",
       "    }\n",
       "\n",
       "    .dataframe thead th {\n",
       "        text-align: right;\n",
       "    }\n",
       "</style>\n",
       "<table border=\"1\" class=\"dataframe\">\n",
       "  <thead>\n",
       "    <tr style=\"text-align: right;\">\n",
       "      <th></th>\n",
       "      <th>Model</th>\n",
       "      <th>Tf-idf(test)</th>\n",
       "      <th>Tf-idf(train)</th>\n",
       "      <th>cv(test)</th>\n",
       "      <th>cv(train)</th>\n",
       "    </tr>\n",
       "  </thead>\n",
       "  <tbody>\n",
       "    <tr>\n",
       "      <td>0</td>\n",
       "      <td>Naive</td>\n",
       "      <td>85.97</td>\n",
       "      <td>88.97</td>\n",
       "      <td>89.87</td>\n",
       "      <td>93.03</td>\n",
       "    </tr>\n",
       "    <tr>\n",
       "      <td>1</td>\n",
       "      <td>LogisticRegression</td>\n",
       "      <td>96.35</td>\n",
       "      <td>98.50</td>\n",
       "      <td>96.39</td>\n",
       "      <td>99.48</td>\n",
       "    </tr>\n",
       "    <tr>\n",
       "      <td>2</td>\n",
       "      <td>RandomForest</td>\n",
       "      <td>96.40</td>\n",
       "      <td>99.90</td>\n",
       "      <td>96.10</td>\n",
       "      <td>99.90</td>\n",
       "    </tr>\n",
       "    <tr>\n",
       "      <td>3</td>\n",
       "      <td>ANN</td>\n",
       "      <td>95.94</td>\n",
       "      <td>99.90</td>\n",
       "      <td>95.92</td>\n",
       "      <td>99.85</td>\n",
       "    </tr>\n",
       "  </tbody>\n",
       "</table>\n",
       "</div>"
      ],
      "text/plain": [
       "                Model  Tf-idf(test)  Tf-idf(train)  cv(test)  cv(train)\n",
       "0               Naive         85.97          88.97     89.87      93.03\n",
       "1  LogisticRegression         96.35          98.50     96.39      99.48\n",
       "2        RandomForest         96.40          99.90     96.10      99.90\n",
       "3                 ANN         95.94          99.90     95.92      99.85"
      ]
     },
     "execution_count": 34,
     "metadata": {},
     "output_type": "execute_result"
    }
   ],
   "source": [
    "df"
   ]
  },
  {
   "cell_type": "code",
   "execution_count": 35,
   "metadata": {},
   "outputs": [
    {
     "data": {
      "text/plain": [
       "0                 Naive\n",
       "1    LogisticRegression\n",
       "2          RandomForest\n",
       "3                   ANN\n",
       "Name: Model, dtype: object"
      ]
     },
     "execution_count": 35,
     "metadata": {},
     "output_type": "execute_result"
    }
   ],
   "source": [
    "df.iloc[:,0]"
   ]
  },
  {
   "cell_type": "markdown",
   "metadata": {},
   "source": [
    "### Accuracy train and test data of models using tfidf "
   ]
  },
  {
   "cell_type": "code",
   "execution_count": 13,
   "metadata": {},
   "outputs": [
    {
     "data": {
      "image/png": "[encoded data removed]",
      "text/plain": [
       "<Figure size 432x288 with 1 Axes>"
      ]
     },
     "metadata": {
      "needs_background": "light"
     },
     "output_type": "display_data"
    }
   ],
   "source": [
    "import numpy as np\n",
    "import matplotlib.pyplot as plt\n",
    "\n",
    "# data to plot\n",
    "n_groups = 4\n",
    "test = (85.97, 96.35, 96.4, 95.94)\n",
    "train = (88.97, 98.5, 99.9, 99.9)\n",
    "\n",
    "\n",
    "# create plot\n",
    "fig, ax = plt.subplots()\n",
    "index = np.arange(n_groups)\n",
    "bar_width = 0.35\n",
    "opacity = 0.8\n",
    "\n",
    "rects1 = plt.bar(index, test, bar_width,\n",
    "alpha=opacity,\n",
    "color='black',\n",
    "label='test')\n",
    "\n",
    "rects2 = plt.bar(index + bar_width, train, bar_width,\n",
    "alpha=opacity,\n",
    "color='grey',\n",
    "label='train', )\n",
    "\n",
    "plt.xlabel('Tf-idf model')\n",
    "plt.ylabel('Accuracy')\n",
    "plt.title('Accuracy of different model with Tf-idf')\n",
    "plt.xticks(index + bar_width, ('NaiveBayes', 'LogisticRegression', 'RandomForest', 'ANN'))\n",
    "plt.legend()\n",
    "\n",
    "for index,data in enumerate(test):\n",
    "    plt.text(x=index-0.1 , y =data+1 , s=f\"{data}\" , fontdict=dict(fontsize=10))\n",
    "\n",
    "for index,data in enumerate(train):\n",
    "    plt.text(x=index+0.25 , y =data+1 , s=f\"{data}\" , fontdict=dict(fontsize=10))\n",
    "    \n",
    "\n",
    "plt.tight_layout()\n",
    "plt.show()"
   ]
  },
  {
   "cell_type": "markdown",
   "metadata": {},
   "source": [
    "### Accuracy train and test data of models using CountVectorizer "
   ]
  },
  {
   "cell_type": "code",
   "execution_count": 15,
   "metadata": {},
   "outputs": [
    {
     "data": {
      "image/png": "[encoded data removed]",
      "text/plain": [
       "<Figure size 432x288 with 1 Axes>"
      ]
     },
     "metadata": {
      "needs_background": "light"
     },
     "output_type": "display_data"
    }
   ],
   "source": [
    "import numpy as np\n",
    "import matplotlib.pyplot as plt\n",
    "\n",
    "# data to plot\n",
    "n_groups = 4\n",
    "test = (89.87, 96.39, 96.1, 95.92)\n",
    "train = (93.03, 99.48, 99.9, 99.85)\n",
    "\n",
    "# create plot\n",
    "fig, ax = plt.subplots()\n",
    "index = np.arange(n_groups)\n",
    "bar_width = 0.35\n",
    "opacity = 0.8\n",
    "\n",
    "rects1 = plt.bar(index, test, bar_width,\n",
    "alpha=opacity,\n",
    "color='skyblue',\n",
    "label='test')\n",
    "\n",
    "rects2 = plt.bar(index + bar_width, train, bar_width,\n",
    "alpha=opacity,\n",
    "color= 'pink',\n",
    "label='train')\n",
    "\n",
    "plt.xlabel('CountVectorizer model')\n",
    "plt.ylabel('Accuracy')\n",
    "plt.title('Accuracy of different model with CountVectorizer')\n",
    "plt.xticks(index + bar_width, ('NaiveBayes', 'LogisticRegression', 'RandomForest', 'ANN'))\n",
    "plt.legend()\n",
    "\n",
    "\n",
    "for index,data in enumerate(test):\n",
    "    plt.text(x=index-0.1 , y =data+1 , s=f\"{data}\" , fontdict=dict(fontsize=10))\n",
    "\n",
    "for index,data in enumerate(train):\n",
    "    plt.text(x=index+0.25 , y =data+1 , s=f\"{data}\" , fontdict=dict(fontsize=10))\n",
    "    \n",
    "    \n",
    "plt.tight_layout()\n",
    "plt.show()"
   ]
  },
  {
   "cell_type": "markdown",
   "metadata": {},
   "source": [
    "### Comparing test accuracy of tfidf and cv model"
   ]
  },
  {
   "cell_type": "code",
   "execution_count": 17,
   "metadata": {},
   "outputs": [
    {
     "data": {
      "image/png": "[encoded data removed]",
      "text/plain": [
       "<Figure size 432x288 with 1 Axes>"
      ]
     },
     "metadata": {
      "needs_background": "light"
     },
     "output_type": "display_data"
    }
   ],
   "source": [
    "import numpy as np\n",
    "import matplotlib.pyplot as plt\n",
    "\n",
    "# data to plot\n",
    "n_groups = 4\n",
    "tfidf= (85.97, 96.35, 96.4, 95.94)\n",
    "cv = (89.87, 96.39, 96.1, 95.92 )\n",
    "\n",
    "# create plot\n",
    "fig, ax = plt.subplots()\n",
    "index = np.arange(n_groups)\n",
    "bar_width = 0.35\n",
    "opacity = 0.8\n",
    "\n",
    "rects1 = plt.bar(index, tfidf, bar_width,\n",
    "alpha=opacity,\n",
    "color='lavender',\n",
    "label='tfidf')\n",
    "\n",
    "rects2 = plt.bar(index + bar_width, cv, bar_width,\n",
    "alpha=opacity,\n",
    "color= 'yellow',\n",
    "label='cv')\n",
    "\n",
    "\n",
    "plt.xlabel('Models')\n",
    "plt.ylabel('Accuracy')\n",
    "plt.title('Accuracy of testing data for different models of cv and Tf-idf')\n",
    "plt.xticks(index + bar_width, ('NaiveBayes', 'LogisticRegression', 'RandomForest', 'ANN'))\n",
    "plt.legend()\n",
    "\n",
    "\n",
    "for index,data in enumerate(tfidf):\n",
    "    plt.text(x=index-0.1 , y =data+1 , s=f\"{data}\" , fontdict=dict(fontsize=10))\n",
    "\n",
    "for index,data in enumerate(cv):\n",
    "    plt.text(x=index+0.25 , y =data+1 , s=f\"{data}\" , fontdict=dict(fontsize=10))\n",
    "    \n",
    "    \n",
    "plt.tight_layout()\n",
    "plt.show()"
   ]
  },
  {
   "cell_type": "code",
   "execution_count": null,
   "metadata": {},
   "outputs": [],
   "source": []
  },
  {
   "cell_type": "markdown",
   "metadata": {},
   "source": [
    "#### Testing data "
   ]
  },
  {
   "cell_type": "code",
   "execution_count": 28,
   "metadata": {},
   "outputs": [],
   "source": [
    "test_dataset = pd.read_csv(\"test_tweet.csv\")"
   ]
  },
  {
   "cell_type": "code",
   "execution_count": 29,
   "metadata": {},
   "outputs": [
    {
     "data": {
      "text/html": [
       "<div>\n",
       "<style scoped>\n",
       "    .dataframe tbody tr th:only-of-type {\n",
       "        vertical-align: middle;\n",
       "    }\n",
       "\n",
       "    .dataframe tbody tr th {\n",
       "        vertical-align: top;\n",
       "    }\n",
       "\n",
       "    .dataframe thead th {\n",
       "        text-align: right;\n",
       "    }\n",
       "</style>\n",
       "<table border=\"1\" class=\"dataframe\">\n",
       "  <thead>\n",
       "    <tr style=\"text-align: right;\">\n",
       "      <th></th>\n",
       "      <th>id</th>\n",
       "      <th>tweet</th>\n",
       "    </tr>\n",
       "  </thead>\n",
       "  <tbody>\n",
       "    <tr>\n",
       "      <td>0</td>\n",
       "      <td>31963</td>\n",
       "      <td>#studiolife #aislife #requires #passion #dedic...</td>\n",
       "    </tr>\n",
       "    <tr>\n",
       "      <td>1</td>\n",
       "      <td>31964</td>\n",
       "      <td>@user #white #supremacists want everyone to s...</td>\n",
       "    </tr>\n",
       "    <tr>\n",
       "      <td>2</td>\n",
       "      <td>31965</td>\n",
       "      <td>safe ways to heal your #acne!!    #altwaystohe...</td>\n",
       "    </tr>\n",
       "  </tbody>\n",
       "</table>\n",
       "</div>"
      ],
      "text/plain": [
       "      id                                              tweet\n",
       "0  31963  #studiolife #aislife #requires #passion #dedic...\n",
       "1  31964   @user #white #supremacists want everyone to s...\n",
       "2  31965  safe ways to heal your #acne!!    #altwaystohe..."
      ]
     },
     "execution_count": 29,
     "metadata": {},
     "output_type": "execute_result"
    }
   ],
   "source": [
    "test_dataset.head(3)"
   ]
  },
  {
   "cell_type": "code",
   "execution_count": 30,
   "metadata": {},
   "outputs": [
    {
     "data": {
      "text/plain": [
       "(17197, 2)"
      ]
     },
     "execution_count": 30,
     "metadata": {},
     "output_type": "execute_result"
    }
   ],
   "source": [
    "test_dataset.shape"
   ]
  },
  {
   "cell_type": "code",
   "execution_count": 31,
   "metadata": {},
   "outputs": [],
   "source": [
    "# # Cleaning the texts\n",
    "# import re\n",
    "# import nltk\n",
    "# #nltk.download('stopwords')\n",
    "# from nltk.corpus import stopwords\n",
    "# from nltk.stem.porter import PorterStemmer\n",
    "# corpus_t = []\n",
    "# for i in range(0, test_dataset.shape[0]):\n",
    "#     tweet = re.sub('[^a-zA-Z]', ' ', dataset['tweet'][i])\n",
    "#     tweet = tweet.lower()\n",
    "#     tweet = tweet.split()\n",
    "#     ps = PorterStemmer()\n",
    "#     tweet = [ps.stem(word) for word in tweet if not word in set(stopwords.words('english'))]\n",
    "#     tweet = ' '.join(tweet)\n",
    "#     corpus_t.append(tweet)"
   ]
  },
  {
   "cell_type": "code",
   "execution_count": 32,
   "metadata": {},
   "outputs": [],
   "source": [
    "# #save the corpus\n",
    "# np.save('tweet_test_cleaned_corpus.npy', corpus_t)"
   ]
  },
  {
   "cell_type": "code",
   "execution_count": 33,
   "metadata": {},
   "outputs": [],
   "source": [
    "#load the corpus\n",
    "corpus_t= np.load('tweet_test_cleaned_corpus.npy', mmap_mode=None, allow_pickle=True, fix_imports=True, encoding='ASCII')"
   ]
  },
  {
   "cell_type": "code",
   "execution_count": 34,
   "metadata": {},
   "outputs": [],
   "source": [
    "X_tf_final = tfidf_vectorizer.transform(corpus_t)"
   ]
  },
  {
   "cell_type": "code",
   "execution_count": 38,
   "metadata": {},
   "outputs": [
    {
     "data": {
      "text/plain": [
       "(17197, 8844)"
      ]
     },
     "execution_count": 38,
     "metadata": {},
     "output_type": "execute_result"
    }
   ],
   "source": [
    "X_tf_final.shape"
   ]
  },
  {
   "cell_type": "code",
   "execution_count": 36,
   "metadata": {},
   "outputs": [],
   "source": [
    "X_final = X_tf_final.toarray()"
   ]
  },
  {
   "cell_type": "code",
   "execution_count": 41,
   "metadata": {},
   "outputs": [],
   "source": [
    "#Predict values usi lr(8844)\n",
    "y_final_lr = grid_clf_acc_a.predict(X_tf_final)"
   ]
  },
  {
   "cell_type": "code",
   "execution_count": 39,
   "metadata": {},
   "outputs": [
    {
     "ename": "NameError",
     "evalue": "name 'grid_clf_acc' is not defined",
     "output_type": "error",
     "traceback": [
      "\u001b[0;31m---------------------------------------------------------------------------\u001b[0m",
      "\u001b[0;31mNameError\u001b[0m                                 Traceback (most recent call last)",
      "\u001b[0;32m<ipython-input-39-79c3594841e1>\u001b[0m in \u001b[0;36m<module>\u001b[0;34m\u001b[0m\n\u001b[0;32m----> 1\u001b[0;31m \u001b[0my_final\u001b[0m \u001b[0;34m=\u001b[0m \u001b[0mgrid_clf_acc\u001b[0m\u001b[0;34m.\u001b[0m\u001b[0mpredict\u001b[0m\u001b[0;34m(\u001b[0m\u001b[0mX_final\u001b[0m\u001b[0;34m)\u001b[0m\u001b[0;34m\u001b[0m\u001b[0;34m\u001b[0m\u001b[0m\n\u001b[0m",
      "\u001b[0;31mNameError\u001b[0m: name 'grid_clf_acc' is not defined"
     ]
    }
   ],
   "source": [
    "y_final_rf = grid_clf_acc.predict(X_final)"
   ]
  },
  {
   "cell_type": "code",
   "execution_count": 36,
   "metadata": {},
   "outputs": [
    {
     "data": {
      "text/plain": [
       "array([0, 0, 0, ..., 0, 0, 0])"
      ]
     },
     "execution_count": 36,
     "metadata": {},
     "output_type": "execute_result"
    }
   ],
   "source": [
    "y_final"
   ]
  },
  {
   "cell_type": "code",
   "execution_count": 39,
   "metadata": {},
   "outputs": [
    {
     "data": {
      "text/plain": [
       "['y_final_tweet.pkl']"
      ]
     },
     "execution_count": 39,
     "metadata": {},
     "output_type": "execute_result"
    }
   ],
   "source": [
    "# Save the model as a pickle in a file(with 8844 features) \n",
    "joblib.dump(y_final, 'y_final_tweet.pkl') "
   ]
  },
  {
   "cell_type": "code",
   "execution_count": 40,
   "metadata": {},
   "outputs": [],
   "source": [
    "# Load the model from the file(with 8844 features) \n",
    "y_final = joblib.load('y_final_tweet.pkl')  "
   ]
  },
  {
   "cell_type": "code",
   "execution_count": 41,
   "metadata": {},
   "outputs": [
    {
     "data": {
      "text/plain": [
       "(17197,)"
      ]
     },
     "execution_count": 41,
     "metadata": {},
     "output_type": "execute_result"
    }
   ],
   "source": [
    "y_final.shape"
   ]
  },
  {
   "cell_type": "code",
   "execution_count": null,
   "metadata": {},
   "outputs": [],
   "source": []
  }
 ],
 "metadata": {
  "anaconda-cloud": {},
  "kernelspec": {
   "display_name": "Python 3",
   "language": "python",
   "name": "python3"
  },
  "language_info": {
   "codemirror_mode": {
    "name": "ipython",
    "version": 3
   },
   "file_extension": ".py",
   "mimetype": "text/x-python",
   "name": "python",
   "nbconvert_exporter": "python",
   "pygments_lexer": "ipython3",
   "version": "3.8.3"
  }
 },
 "nbformat": 4,
 "nbformat_minor": 1
}
